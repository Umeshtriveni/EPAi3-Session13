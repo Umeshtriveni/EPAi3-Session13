{
  "nbformat": 4,
  "nbformat_minor": 0,
  "metadata": {
    "colab": {
      "name": "Session13.ipynb",
      "provenance": [],
      "collapsed_sections": []
    },
    "kernelspec": {
      "name": "python3",
      "display_name": "Python 3"
    },
    "language_info": {
      "name": "python"
    }
  },
  "cells": [
    {
      "cell_type": "code",
      "metadata": {
        "id": "hFLDPo-l6bCJ"
      },
      "source": [
        "# Raead data frome the file\n",
        "file_name = r'/content/nyc_parking_tickets_extract-1.csv'"
      ],
      "execution_count": 3,
      "outputs": []
    },
    {
      "cell_type": "code",
      "metadata": {
        "colab": {
          "base_uri": "https://localhost:8080/"
        },
        "id": "VcI1Oi0Q7MeL",
        "outputId": "d733dd14-69e3-420d-8993-bc0bfa3e54d3"
      },
      "source": [
        "with open(file_name) as f:\n",
        "    for row in range(11):\n",
        "        print(next(f))\n"
      ],
      "execution_count": 4,
      "outputs": [
        {
          "output_type": "stream",
          "text": [
            "Summons Number,Plate ID,Registration State,Plate Type,Issue Date,Violation Code,Vehicle Body Type,Vehicle Make,Violation Description\n",
            "\n",
            "4006478550,VAD7274,VA,PAS,10/5/2016,5,4D,BMW,BUS LANE VIOLATION\n",
            "\n",
            "4006462396,22834JK,NY,COM,9/30/2016,5,VAN,CHEVR,BUS LANE VIOLATION\n",
            "\n",
            "4007117810,21791MG,NY,COM,4/10/2017,5,VAN,DODGE,BUS LANE VIOLATION\n",
            "\n",
            "4006265037,FZX9232,NY,PAS,8/23/2016,5,SUBN,FORD,BUS LANE VIOLATION\n",
            "\n",
            "4006535600,N203399C,NY,OMT,10/19/2016,5,SUBN,FORD,BUS LANE VIOLATION\n",
            "\n",
            "4007156700,92163MG,NY,COM,4/13/2017,5,VAN,FRUEH,BUS LANE VIOLATION\n",
            "\n",
            "4006687989,MIQ600,SC,PAS,11/21/2016,5,VN,HONDA,BUS LANE VIOLATION\n",
            "\n",
            "4006943052,2AE3984,MD,PAS,2/1/2017,5,SW,LINCO,BUS LANE VIOLATION\n",
            "\n",
            "4007306795,HLG4926,NY,PAS,5/30/2017,5,SUBN,TOYOT,BUS LANE VIOLATION\n",
            "\n",
            "4007124590,T715907C,NY,OMT,4/3/2017,5,SUBN,TOYOT,BUS LANE VIOLATION\n",
            "\n"
          ],
          "name": "stdout"
        }
      ]
    },
    {
      "cell_type": "code",
      "metadata": {
        "id": "I2KR9--h7Miz"
      },
      "source": [
        "with open(file_name) as f:\n",
        "    column_headers = next(f).strip('\\n').split(',')\n",
        "    sample_data = next(f).strip('\\n').split(',')"
      ],
      "execution_count": 5,
      "outputs": []
    },
    {
      "cell_type": "code",
      "metadata": {
        "colab": {
          "base_uri": "https://localhost:8080/"
        },
        "id": "iQdLolhb7MmK",
        "outputId": "690d9ac4-3957-4d15-fab5-d43ff64498a2"
      },
      "source": [
        "\n",
        "column_headers"
      ],
      "execution_count": 7,
      "outputs": [
        {
          "output_type": "execute_result",
          "data": {
            "text/plain": [
              "['Summons Number',\n",
              " 'Plate ID',\n",
              " 'Registration State',\n",
              " 'Plate Type',\n",
              " 'Issue Date',\n",
              " 'Violation Code',\n",
              " 'Vehicle Body Type',\n",
              " 'Vehicle Make',\n",
              " 'Violation Description']"
            ]
          },
          "metadata": {
            "tags": []
          },
          "execution_count": 7
        }
      ]
    },
    {
      "cell_type": "code",
      "metadata": {
        "id": "pTU8q3uC7My9"
      },
      "source": [
        "\n",
        "with open(file_name) as f:\n",
        "    col_names = next(f)"
      ],
      "execution_count": 8,
      "outputs": []
    },
    {
      "cell_type": "code",
      "metadata": {
        "colab": {
          "base_uri": "https://localhost:8080/",
          "height": 35
        },
        "id": "6ihNeKTa7M04",
        "outputId": "d4255c98-5e1c-464d-cc98-5d6004a201d4"
      },
      "source": [
        "col_names"
      ],
      "execution_count": 9,
      "outputs": [
        {
          "output_type": "execute_result",
          "data": {
            "application/vnd.google.colaboratory.intrinsic+json": {
              "type": "string"
            },
            "text/plain": [
              "'Summons Number,Plate ID,Registration State,Plate Type,Issue Date,Violation Code,Vehicle Body Type,Vehicle Make,Violation Description\\n'"
            ]
          },
          "metadata": {
            "tags": []
          },
          "execution_count": 9
        }
      ]
    },
    {
      "cell_type": "code",
      "metadata": {
        "colab": {
          "base_uri": "https://localhost:8080/"
        },
        "id": "x80xUFDA7M3N",
        "outputId": "675aa014-7160-416a-ccaf-49109f0dd33b"
      },
      "source": [
        "[col.strip(\" \") for col in col_names.strip(\"\\n\").split(\",\")]"
      ],
      "execution_count": 10,
      "outputs": [
        {
          "output_type": "execute_result",
          "data": {
            "text/plain": [
              "['Summons Number',\n",
              " 'Plate ID',\n",
              " 'Registration State',\n",
              " 'Plate Type',\n",
              " 'Issue Date',\n",
              " 'Violation Code',\n",
              " 'Vehicle Body Type',\n",
              " 'Vehicle Make',\n",
              " 'Violation Description']"
            ]
          },
          "metadata": {
            "tags": []
          },
          "execution_count": 10
        }
      ]
    },
    {
      "cell_type": "code",
      "metadata": {
        "id": "zrPmRtWs7M5o"
      },
      "source": [
        "with open(file_name) as f:\n",
        "    column_names =[col.strip(\" \") for col in next(f).strip(\"\\n\").split(\",\")]\n",
        "    data = [row.strip(\" \") for row in next(f).strip(\"\\n\").split(\",\")]"
      ],
      "execution_count": 11,
      "outputs": []
    },
    {
      "cell_type": "code",
      "metadata": {
        "id": "VHLlk6qCeaR5"
      },
      "source": [
        "# data"
      ],
      "execution_count": 13,
      "outputs": []
    },
    {
      "cell_type": "code",
      "metadata": {
        "colab": {
          "base_uri": "https://localhost:8080/"
        },
        "id": "Jz8IZF7aeej-",
        "outputId": "75993cb6-91f6-4d78-f5b8-ddfdd43c1462"
      },
      "source": [
        "list(column_names)"
      ],
      "execution_count": 14,
      "outputs": [
        {
          "output_type": "execute_result",
          "data": {
            "text/plain": [
              "['Summons Number',\n",
              " 'Plate ID',\n",
              " 'Registration State',\n",
              " 'Plate Type',\n",
              " 'Issue Date',\n",
              " 'Violation Code',\n",
              " 'Vehicle Body Type',\n",
              " 'Vehicle Make',\n",
              " 'Violation Description']"
            ]
          },
          "metadata": {
            "tags": []
          },
          "execution_count": 14
        }
      ]
    },
    {
      "cell_type": "code",
      "metadata": {
        "colab": {
          "base_uri": "https://localhost:8080/"
        },
        "id": "far6DvoJeuHE",
        "outputId": "3e9eb06f-88ff-4280-f4c7-48c900b5d5ba"
      },
      "source": [
        "list(zip(column_names, data))"
      ],
      "execution_count": 15,
      "outputs": [
        {
          "output_type": "execute_result",
          "data": {
            "text/plain": [
              "[('Summons Number', '4006478550'),\n",
              " ('Plate ID', 'VAD7274'),\n",
              " ('Registration State', 'VA'),\n",
              " ('Plate Type', 'PAS'),\n",
              " ('Issue Date', '10/5/2016'),\n",
              " ('Violation Code', '5'),\n",
              " ('Vehicle Body Type', '4D'),\n",
              " ('Vehicle Make', 'BMW'),\n",
              " ('Violation Description', 'BUS LANE VIOLATION')]"
            ]
          },
          "metadata": {
            "tags": []
          },
          "execution_count": 15
        }
      ]
    },
    {
      "cell_type": "code",
      "metadata": {
        "id": "oBTO2FwVfYiy"
      },
      "source": [
        "def read_data():\n",
        "    with open(file_name) as f:\n",
        "        next(f)\n",
        "        yield from f"
      ],
      "execution_count": 17,
      "outputs": []
    },
    {
      "cell_type": "code",
      "metadata": {
        "colab": {
          "base_uri": "https://localhost:8080/"
        },
        "id": "BAaFtYD9fgGH",
        "outputId": "704b3ac8-2144-4faf-db91-f913cd99b4c5"
      },
      "source": [
        "raw_data = read_data()\n",
        "for _ in range(5):\n",
        "    print(next(raw_data))"
      ],
      "execution_count": 18,
      "outputs": [
        {
          "output_type": "stream",
          "text": [
            "4006478550,VAD7274,VA,PAS,10/5/2016,5,4D,BMW,BUS LANE VIOLATION\n",
            "\n",
            "4006462396,22834JK,NY,COM,9/30/2016,5,VAN,CHEVR,BUS LANE VIOLATION\n",
            "\n",
            "4007117810,21791MG,NY,COM,4/10/2017,5,VAN,DODGE,BUS LANE VIOLATION\n",
            "\n",
            "4006265037,FZX9232,NY,PAS,8/23/2016,5,SUBN,FORD,BUS LANE VIOLATION\n",
            "\n",
            "4006535600,N203399C,NY,OMT,10/19/2016,5,SUBN,FORD,BUS LANE VIOLATION\n",
            "\n"
          ],
          "name": "stdout"
        }
      ]
    },
    {
      "cell_type": "markdown",
      "metadata": {
        "id": "WiqRsVSsf4yw"
      },
      "source": [
        "parser Column to set appropriate format"
      ]
    },
    {
      "cell_type": "code",
      "metadata": {
        "id": "-9zx5dDnf6xV"
      },
      "source": [
        "def parse_int(value,default=None):\n",
        "    try:\n",
        "        return int(value)\n",
        "    except ValueError:\n",
        "        return default"
      ],
      "execution_count": 19,
      "outputs": []
    },
    {
      "cell_type": "code",
      "metadata": {
        "id": "AErGrmrvgBKQ"
      },
      "source": [
        "from datetime import datetime\n",
        "\n",
        "def parse_date(value,default=None):\n",
        "    date_format='%m/%d/%Y'\n",
        "    try:\n",
        "        return datetime.strptime(value, date_format).date()\n",
        "    except ValueError:\n",
        "        return default"
      ],
      "execution_count": 20,
      "outputs": []
    },
    {
      "cell_type": "code",
      "metadata": {
        "id": "EcGHI6V_gczg"
      },
      "source": [
        "def parse_string(value,default=None):\n",
        "    \n",
        "    try:\n",
        "        clean = str(value).strip()\n",
        "        if not clean:\n",
        "            return default\n",
        "        else:\n",
        "            return clean\n",
        "    except ValueError:\n",
        "        return default"
      ],
      "execution_count": 21,
      "outputs": []
    },
    {
      "cell_type": "code",
      "metadata": {
        "id": "KDesZJQLgkUA"
      },
      "source": [
        "column_parsers = (parse_int,  \n",
        "                  parse_string, \n",
        "                  parse_string,  \n",
        "                  parse_string, \n",
        "                  parse_date,  \n",
        "                  parse_int,  \n",
        "                  parse_string, \n",
        "                  parse_string, \n",
        "                  parse_string \n",
        "                 )"
      ],
      "execution_count": 22,
      "outputs": []
    },
    {
      "cell_type": "code",
      "metadata": {
        "id": "GxcbMDTYgn4O"
      },
      "source": [
        ""
      ],
      "execution_count": null,
      "outputs": []
    },
    {
      "cell_type": "markdown",
      "metadata": {
        "id": "JWsI6elOhVNf"
      },
      "source": [
        "row parser"
      ]
    },
    {
      "cell_type": "code",
      "metadata": {
        "id": "C0w6wn-ahWAJ"
      },
      "source": [
        "def parse_row(row):\n",
        "    \n",
        "    fields = row.strip('\\n').split(',')\n",
        "    parsed_data = (func(field) \n",
        "                   for func, field in zip(column_parsers, fields))\n",
        "    return parsed_data"
      ],
      "execution_count": 23,
      "outputs": []
    },
    {
      "cell_type": "code",
      "metadata": {
        "colab": {
          "base_uri": "https://localhost:8080/"
        },
        "id": "QZmxgM7theTf",
        "outputId": "898e6872-e590-4a1f-cca3-0dc4603b2fc3"
      },
      "source": [
        "rows = read_data()\n",
        "\n",
        "for _ in range(5):\n",
        "    row = next(rows)\n",
        "    parsed_data = parse_row(row)\n",
        "    print(list(parsed_data))"
      ],
      "execution_count": 24,
      "outputs": [
        {
          "output_type": "stream",
          "text": [
            "[4006478550, 'VAD7274', 'VA', 'PAS', datetime.date(2016, 10, 5), 5, '4D', 'BMW', 'BUS LANE VIOLATION']\n",
            "[4006462396, '22834JK', 'NY', 'COM', datetime.date(2016, 9, 30), 5, 'VAN', 'CHEVR', 'BUS LANE VIOLATION']\n",
            "[4007117810, '21791MG', 'NY', 'COM', datetime.date(2017, 4, 10), 5, 'VAN', 'DODGE', 'BUS LANE VIOLATION']\n",
            "[4006265037, 'FZX9232', 'NY', 'PAS', datetime.date(2016, 8, 23), 5, 'SUBN', 'FORD', 'BUS LANE VIOLATION']\n",
            "[4006535600, 'N203399C', 'NY', 'OMT', datetime.date(2016, 10, 19), 5, 'SUBN', 'FORD', 'BUS LANE VIOLATION']\n"
          ],
          "name": "stdout"
        }
      ]
    },
    {
      "cell_type": "code",
      "metadata": {
        "id": "oPlUITvShnHM"
      },
      "source": [
        ""
      ],
      "execution_count": null,
      "outputs": []
    },
    {
      "cell_type": "markdown",
      "metadata": {
        "id": "GVBi0b5JhqfV"
      },
      "source": [
        "create generator"
      ]
    },
    {
      "cell_type": "code",
      "metadata": {
        "id": "x5-ON_zVhrFH"
      },
      "source": [
        "def parse_rows_gen():\n",
        "    for row in read_data():\n",
        "        yield zip(column_names,parse_row(row))"
      ],
      "execution_count": 25,
      "outputs": []
    },
    {
      "cell_type": "code",
      "metadata": {
        "colab": {
          "base_uri": "https://localhost:8080/"
        },
        "id": "NaZPpF_7hurv",
        "outputId": "41724825-23f1-46a8-ff91-0b0a8232d901"
      },
      "source": [
        "parsed_rows = parse_rows_gen()\n",
        "for i in range(5):\n",
        "    print(list(next(parsed_rows)))"
      ],
      "execution_count": 26,
      "outputs": [
        {
          "output_type": "stream",
          "text": [
            "[('Summons Number', 4006478550), ('Plate ID', 'VAD7274'), ('Registration State', 'VA'), ('Plate Type', 'PAS'), ('Issue Date', datetime.date(2016, 10, 5)), ('Violation Code', 5), ('Vehicle Body Type', '4D'), ('Vehicle Make', 'BMW'), ('Violation Description', 'BUS LANE VIOLATION')]\n",
            "[('Summons Number', 4006462396), ('Plate ID', '22834JK'), ('Registration State', 'NY'), ('Plate Type', 'COM'), ('Issue Date', datetime.date(2016, 9, 30)), ('Violation Code', 5), ('Vehicle Body Type', 'VAN'), ('Vehicle Make', 'CHEVR'), ('Violation Description', 'BUS LANE VIOLATION')]\n",
            "[('Summons Number', 4007117810), ('Plate ID', '21791MG'), ('Registration State', 'NY'), ('Plate Type', 'COM'), ('Issue Date', datetime.date(2017, 4, 10)), ('Violation Code', 5), ('Vehicle Body Type', 'VAN'), ('Vehicle Make', 'DODGE'), ('Violation Description', 'BUS LANE VIOLATION')]\n",
            "[('Summons Number', 4006265037), ('Plate ID', 'FZX9232'), ('Registration State', 'NY'), ('Plate Type', 'PAS'), ('Issue Date', datetime.date(2016, 8, 23)), ('Violation Code', 5), ('Vehicle Body Type', 'SUBN'), ('Vehicle Make', 'FORD'), ('Violation Description', 'BUS LANE VIOLATION')]\n",
            "[('Summons Number', 4006535600), ('Plate ID', 'N203399C'), ('Registration State', 'NY'), ('Plate Type', 'OMT'), ('Issue Date', datetime.date(2016, 10, 19)), ('Violation Code', 5), ('Vehicle Body Type', 'SUBN'), ('Vehicle Make', 'FORD'), ('Violation Description', 'BUS LANE VIOLATION')]\n"
          ],
          "name": "stdout"
        }
      ]
    },
    {
      "cell_type": "code",
      "metadata": {
        "id": "BZPp2ykYh69C"
      },
      "source": [
        ""
      ],
      "execution_count": null,
      "outputs": []
    },
    {
      "cell_type": "markdown",
      "metadata": {
        "id": "FOP8oqZfiB1u"
      },
      "source": [
        "Goal 2:"
      ]
    },
    {
      "cell_type": "markdown",
      "metadata": {
        "id": "InKGEprmiM0Q"
      },
      "source": [
        "Calculating Number of Violations by Car Make"
      ]
    },
    {
      "cell_type": "code",
      "metadata": {
        "colab": {
          "base_uri": "https://localhost:8080/"
        },
        "id": "VWOmY9f-iEc4",
        "outputId": "8a457622-f3d8-4095-92fd-1a8121e3b662"
      },
      "source": [
        "parsed_rows = parse_rows_gen()\n",
        "for i in range(10):\n",
        "    print(list(next(parsed_rows))[7])"
      ],
      "execution_count": 27,
      "outputs": [
        {
          "output_type": "stream",
          "text": [
            "('Vehicle Make', 'BMW')\n",
            "('Vehicle Make', 'CHEVR')\n",
            "('Vehicle Make', 'DODGE')\n",
            "('Vehicle Make', 'FORD')\n",
            "('Vehicle Make', 'FORD')\n",
            "('Vehicle Make', 'FRUEH')\n",
            "('Vehicle Make', 'HONDA')\n",
            "('Vehicle Make', 'LINCO')\n",
            "('Vehicle Make', 'TOYOT')\n",
            "('Vehicle Make', 'TOYOT')\n"
          ],
          "name": "stdout"
        }
      ]
    },
    {
      "cell_type": "code",
      "metadata": {
        "id": "Au662JD_iSoX"
      },
      "source": [
        "violations_counts= {}\n",
        "for rows in parsed_rows:\n",
        "    data = list(next(parsed_rows))[7]\n",
        "    #print(data)\n",
        "    if data[1] in violations_counts:\n",
        "        #print(data[0])\n",
        "        violations_counts[data[1]] += 1\n",
        "    else:\n",
        "        violations_counts[data[1]] = 1"
      ],
      "execution_count": 28,
      "outputs": []
    },
    {
      "cell_type": "code",
      "metadata": {
        "colab": {
          "base_uri": "https://localhost:8080/"
        },
        "id": "iTnSns8Siq0j",
        "outputId": "4e3bb467-5e9d-4150-fdea-777893210fa6"
      },
      "source": [
        "violations_counts"
      ],
      "execution_count": 29,
      "outputs": [
        {
          "output_type": "execute_result",
          "data": {
            "text/plain": [
              "{'ACURA': 7,\n",
              " 'AM/T': 1,\n",
              " 'AUDI': 7,\n",
              " 'BMW': 15,\n",
              " 'BUICK': 3,\n",
              " 'CADIL': 4,\n",
              " 'CHEVR': 40,\n",
              " 'CHRYS': 7,\n",
              " 'DODGE': 21,\n",
              " 'FIR': 1,\n",
              " 'FORD': 51,\n",
              " 'FRUEH': 21,\n",
              " 'GMC': 18,\n",
              " 'HIN': 5,\n",
              " 'HINO': 1,\n",
              " 'HONDA': 51,\n",
              " 'HYUND': 18,\n",
              " 'INFIN': 6,\n",
              " 'INTER': 11,\n",
              " 'ISUZU': 4,\n",
              " 'JAGUA': 3,\n",
              " 'JEEP': 11,\n",
              " 'KENWO': 3,\n",
              " 'KIA': 3,\n",
              " 'LEXUS': 13,\n",
              " 'LINCO': 6,\n",
              " 'MAZDA': 2,\n",
              " 'ME/BE': 18,\n",
              " 'MERCU': 3,\n",
              " 'MI/F': 1,\n",
              " 'MINI': 1,\n",
              " 'MITSU': 4,\n",
              " 'NISSA': 34,\n",
              " 'NS/OT': 9,\n",
              " None: 1,\n",
              " 'OLDSM': 1,\n",
              " 'PETER': 1,\n",
              " 'PLYMO': 1,\n",
              " 'PORSC': 1,\n",
              " 'ROVER': 2,\n",
              " 'SAAB': 1,\n",
              " 'SATUR': 2,\n",
              " 'SCION': 1,\n",
              " 'SMART': 2,\n",
              " 'SPRI': 1,\n",
              " 'STAR': 1,\n",
              " 'SUBAR': 10,\n",
              " 'TOYOT': 53,\n",
              " 'UD': 1,\n",
              " 'UPS': 1,\n",
              " 'VOLKS': 4,\n",
              " 'VOLVO': 6,\n",
              " 'WORKH': 1,\n",
              " 'YAMAH': 1}"
            ]
          },
          "metadata": {
            "tags": []
          },
          "execution_count": 29
        }
      ]
    },
    {
      "cell_type": "code",
      "metadata": {
        "id": "AWGTUpajirxs"
      },
      "source": [
        ""
      ],
      "execution_count": null,
      "outputs": []
    }
  ]
}